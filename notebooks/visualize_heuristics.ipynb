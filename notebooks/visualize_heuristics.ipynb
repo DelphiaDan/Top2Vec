{
 "cells": [
  {
   "cell_type": "markdown",
   "metadata": {},
   "source": [
    "# Heuristics Visualization\n",
    "This notebook is a demonstration of how the elbow finding heuristics will work on different datasets.\n",
    "It is intended for experimentation and to determine if any adjustments should be made to handle cases such as an S-curve along the expected linear descent line."
   ]
  },
  {
   "cell_type": "code",
   "execution_count": null,
   "metadata": {},
   "outputs": [],
   "source": [
    "import numpy as np\n",
    "import sklearn.metrics\n",
    "from top2vec.elbow_finding import find_elbow_index, get_distances_from_line\n",
    "\n",
    "%matplotlib inline\n",
    "import matplotlib.pyplot as plt\n",
    "\n",
    "\n",
    "def plot_heuristic(values, figure_num=\"1\", derivatives=\"distance\", figsize=(8, 3)):\n",
    "    sorted_vals = -np.sort(-np.array(values))\n",
    "    x = np.arange(sorted_vals.size)[:, None]\n",
    "\n",
    "    m = (sorted_vals[-1] - sorted_vals[0]) / (sorted_vals.size - 1)\n",
    "    line = x * m + sorted_vals[0]\n",
    "    # Uniform is an absolute value and therefore useless for detecting an inflection\n",
    "    y_distances = get_distances_from_line(\n",
    "        sorted_vals, m, sorted_vals[0], metric=\"raw-y\"\n",
    "    )\n",
    "    elbow = find_elbow_index(sorted_vals)\n",
    "\n",
    "    if not derivatives:\n",
    "        distances = []\n",
    "        with_derivatives = False\n",
    "    elif derivatives == \"distance\":\n",
    "        distances = get_distances_from_line(sorted_vals, m, sorted_vals[0])\n",
    "        with_derivatives = True\n",
    "    elif derivatives == \"values\":\n",
    "        distances = sorted_vals\n",
    "        with_derivatives = True\n",
    "    else:\n",
    "        raise ValueError(\"Unknown derivatives requested.\")\n",
    "\n",
    "    plot_figure(\n",
    "        sorted_vals,\n",
    "        distances,\n",
    "        elbow,\n",
    "        line,\n",
    "        figure_num=figure_num,\n",
    "        with_derivatives=with_derivatives,\n",
    "        y_distances=y_distances,\n",
    "        figsize=figsize,\n",
    "    )\n",
    "\n",
    "\n",
    "def plot_figure(\n",
    "    sorted_vals,\n",
    "    distances,\n",
    "    elbow,\n",
    "    line,\n",
    "    figure_num=\"1\",\n",
    "    with_derivatives=True,\n",
    "    y_distances=None,\n",
    "    figsize=(8, 3),\n",
    "):\n",
    "\n",
    "    distances_prime = [\n",
    "        0,\n",
    "    ]\n",
    "    for x, distance in enumerate(distances):\n",
    "        if x == 0:\n",
    "            continue\n",
    "        else:\n",
    "            distances_prime.append(distance - distances[x - 1])\n",
    "    distances_prime_prime = [0, 0]\n",
    "    for x, distance_prime in enumerate(distances_prime):\n",
    "        if x == 0:\n",
    "            continue\n",
    "        else:\n",
    "            distances_prime_prime.append(distance_prime - distances_prime[x - 1])\n",
    "\n",
    "    if not with_derivatives:\n",
    "        fig = plt.figure(num=figure_num, clear=True, figsize=figsize)\n",
    "        gs = fig.add_gridspec(nrows=3, ncols=1)\n",
    "        if y_distances is not None:\n",
    "            ax = fig.add_subplot(gs[:2, 0])\n",
    "            ax_y = fig.add_subplot(gs[2, 0], sharex=ax)\n",
    "            ax_y.axhline(0, color=\"black\")\n",
    "            ax_y.plot(y_distances)\n",
    "        else:\n",
    "            ax = fig.add_subplot(gs[:, 0])\n",
    "\n",
    "    else:\n",
    "        fig = plt.figure(num=figure_num, clear=True, figsize=figsize)\n",
    "        if y_distances is not None:\n",
    "            gs = fig.add_gridspec(nrows=3, ncols=2)\n",
    "            ax = fig.add_subplot(gs[:2, 0])\n",
    "            ax_y = fig.add_subplot(gs[2, 0])\n",
    "            ax_y.axhline(0, color=\"black\")\n",
    "            ax_y.plot(y_distances)\n",
    "        else:\n",
    "            ax = fig.add_subplot(gs[:, 0])\n",
    "        ax_d = fig.add_subplot(gs[0, 1])\n",
    "        ax_d.plot(distances)\n",
    "        ax_d.axhline(0, color=\"black\")\n",
    "        ax_d.xaxis.set_ticklabels([])\n",
    "        ax_d_prime = fig.add_subplot(gs[1, 1], sharex=ax_d)\n",
    "        ax_d_prime.plot(distances_prime)\n",
    "        ax_d_prime.axhline(0, color=\"black\")\n",
    "        ax_d_prime_prime = fig.add_subplot(gs[2, 1])\n",
    "        ax_d_prime_prime.plot(distances_prime_prime)\n",
    "        ax_d_prime_prime.axhline(0, color=\"black\")\n",
    "\n",
    "    # Now the stuff for everyone\n",
    "    ax.plot(line)\n",
    "    ax.scatter([elbow], [sorted_vals[elbow]])\n",
    "    ax.plot(sorted_vals)"
   ]
  },
  {
   "cell_type": "markdown",
   "metadata": {},
   "source": []
  },
  {
   "cell_type": "code",
   "execution_count": null,
   "metadata": {},
   "outputs": [],
   "source": [
    "vector = np.array([[2, 1]])\n",
    "test_embedding = np.array(\n",
    "    [\n",
    "        [0, 1],\n",
    "        [2, 1],\n",
    "        [1, 0.5],\n",
    "        [1, 0],\n",
    "        [4, 2],\n",
    "        [8, 4],\n",
    "        [1, -1],\n",
    "        # Orthogonal\n",
    "        [-1, 2],\n",
    "    ]\n",
    ")\n",
    "test_embedding_multiple_elbows = np.vstack(\n",
    "    [\n",
    "        test_embedding,\n",
    "        np.array(\n",
    "            [\n",
    "                # Opposite (ish)\n",
    "                [-2, -0.8],\n",
    "                [-2, -0.9],\n",
    "                [-2, -0.95],\n",
    "                [-2, -1],\n",
    "                [-2, -1.05],\n",
    "                [-2, -1.1],\n",
    "                [-2, -1.2],\n",
    "                [-2, -1.5],\n",
    "            ]\n",
    "        ),\n",
    "    ]\n",
    ")\n",
    "\n",
    "sims = 1 - sklearn.metrics.pairwise_distances(vector, test_embedding, metric=\"cosine\")\n",
    "sims_multiple_elbows = 1 - sklearn.metrics.pairwise_distances(\n",
    "    vector, test_embedding_multiple_elbows, metric=\"cosine\"\n",
    ")"
   ]
  },
  {
   "cell_type": "markdown",
   "metadata": {},
   "source": [
    "## Show heuristic performance on simple embedding - one elbow"
   ]
  },
  {
   "cell_type": "code",
   "execution_count": null,
   "metadata": {},
   "outputs": [],
   "source": [
    "# The current elbow-finding heuristic also showing changes in distance from the line\n",
    "plot_heuristic(sims[0], derivatives=\"distance\", figsize=(18, 8))"
   ]
  },
  {
   "cell_type": "code",
   "execution_count": null,
   "metadata": {},
   "outputs": [],
   "source": [
    "# What if we wanted to use a derivative of the raw values as a cutoff?\n",
    "plot_heuristic(sims[0], figure_num=2, derivatives=\"values\", figsize=(18, 8))"
   ]
  },
  {
   "cell_type": "code",
   "execution_count": null,
   "metadata": {},
   "outputs": [],
   "source": [
    "# Just the elbow finding\n",
    "plot_heuristic(sims[0], figure_num=3, derivatives=None, figsize=(18, 5))"
   ]
  },
  {
   "cell_type": "markdown",
   "metadata": {},
   "source": [
    "## Showing heuristic performance with multiple elbows in graph"
   ]
  },
  {
   "cell_type": "code",
   "execution_count": null,
   "metadata": {},
   "outputs": [],
   "source": [
    "# The current elbow-finding heuristic also showing changes in distance from the line\n",
    "plot_heuristic(sims_multiple_elbows[0], derivatives=\"distance\", figsize=(18, 8))"
   ]
  },
  {
   "cell_type": "code",
   "execution_count": null,
   "metadata": {},
   "outputs": [],
   "source": [
    "# The current elbow-finding heuristic also showing changes in distance from the line\n",
    "plot_heuristic(sims_multiple_elbows[0], derivatives=\"values\", figsize=(18, 8))"
   ]
  },
  {
   "cell_type": "code",
   "execution_count": null,
   "metadata": {},
   "outputs": [],
   "source": []
  }
 ],
 "metadata": {
  "interpreter": {
   "hash": "9b5bb79fefaf98f77375acff079b7a24467080b30246462856d9cd8768ef704d"
  },
  "kernelspec": {
   "display_name": "Python 3.8.10 ('venv': venv)",
   "language": "python",
   "name": "python3"
  },
  "language_info": {
   "codemirror_mode": {
    "name": "ipython",
    "version": 3
   },
   "file_extension": ".py",
   "mimetype": "text/x-python",
   "name": "python",
   "nbconvert_exporter": "python",
   "pygments_lexer": "ipython3",
   "version": "3.8.10"
  }
 },
 "nbformat": 4,
 "nbformat_minor": 2
}
